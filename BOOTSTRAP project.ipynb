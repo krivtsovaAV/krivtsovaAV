{
 "cells": [
  {
   "cell_type": "markdown",
   "id": "2c681fec",
   "metadata": {},
   "source": [
    "# Описание задачи"
   ]
  },
  {
   "cell_type": "markdown",
   "id": "b4d0ab7a",
   "metadata": {},
   "source": [
    "В этом ноутбуке описан статистический анализ данных применяя критерий Манна-Уитни и бутсрап. \n",
    "\n",
    "Задача:\n",
    "1. Сравнить результат между тестом и контролем по двум кейсам:\n",
    "\n",
    "Примените бутстрап (с np.mean) и критерий mann-whitney, а потом сравните p-value\n",
    "Примените бутстрап (с np.median) и критерий mann-whitney, а потом сравните p-value.\n",
    "\n",
    "2. Написать выводы, которые можно сделать на основе анализа примененных критериев"
   ]
  },
  {
   "cell_type": "code",
   "execution_count": 1,
   "id": "46cc1df7",
   "metadata": {},
   "outputs": [],
   "source": [
    "#импорт всех необходимых библиотек\n",
    "\n",
    "import numpy as np\n",
    "import pandas as pd\n",
    "from scipy.stats import mannwhitneyu\n",
    "from scipy.stats import ttest_ind\n",
    "from scipy.stats import norm\n",
    "import matplotlib.pyplot as plt\n",
    "import seaborn as sns\n",
    "\n",
    "from tqdm.auto import tqdm\n",
    "import seaborn as sns\n",
    "\n",
    "plt.style.use('ggplot')"
   ]
  },
  {
   "cell_type": "code",
   "execution_count": 2,
   "id": "2ded5824",
   "metadata": {},
   "outputs": [],
   "source": [
    "# Объявим функцию, которая позволит проверять гипотезы с помощью бутстрапа\n",
    "def get_bootstrap(\n",
    "    data_column_1, # числовые значения первой выборки\n",
    "    data_column_2, # числовые значения второй выборки\n",
    "    boot_it = 1000, # количество бутстрэп-подвыборок\n",
    "    statistic = np.mean, # интересующая нас статистика\n",
    "    bootstrap_conf_level = 0.95 # уровень значимости\n",
    "):\n",
    "    boot_len = max([len(data_column_1), len(data_column_2)])\n",
    "    boot_data = []\n",
    "    for i in tqdm(range(boot_it)): # извлекаем подвыборки\n",
    "        samples_1 = data_column_1.sample(\n",
    "            boot_len, \n",
    "            replace = True # параметр возвращения\n",
    "        ).values\n",
    "        \n",
    "        samples_2 = data_column_2.sample(\n",
    "            boot_len, \n",
    "            replace = True\n",
    "        ).values\n",
    "        \n",
    "        boot_data.append(statistic(samples_1-samples_2)) # mean() - применяем статистику\n",
    "        \n",
    "    pd_boot_data = pd.DataFrame(boot_data)\n",
    "        \n",
    "    left_quant = (1 - bootstrap_conf_level)/2\n",
    "    right_quant = 1 - (1 - bootstrap_conf_level) / 2\n",
    "    ci = pd_boot_data.quantile([left_quant, right_quant])\n",
    "        \n",
    "    p_1 = norm.cdf(\n",
    "        x = 0, \n",
    "        loc = np.mean(boot_data), \n",
    "        scale = np.std(boot_data)\n",
    "    )\n",
    "    p_2 = norm.cdf(\n",
    "        x = 0, \n",
    "        loc = -np.mean(boot_data), \n",
    "        scale = np.std(boot_data)\n",
    "    )\n",
    "    p_value = min(p_1, p_2) * 2\n",
    "        \n",
    "    # Визуализация\n",
    "    plt.hist(pd_boot_data[0], bins = 50)\n",
    "    \n",
    "    plt.style.use('ggplot')\n",
    "    plt.vlines(ci,ymin=0,ymax=50,linestyle='--')\n",
    "    plt.xlabel('boot_data')\n",
    "    plt.ylabel('frequency')\n",
    "    plt.title(\"Histogram of boot_data\")\n",
    "    plt.show()\n",
    "       \n",
    "    return {\"boot_data\": boot_data, \n",
    "            \"ci\": ci, \n",
    "            \"p_value\": p_value}"
   ]
  },
  {
   "cell_type": "code",
   "execution_count": 3,
   "id": "ab159bd3",
   "metadata": {},
   "outputs": [],
   "source": [
    "#чтение данных\n",
    "df = pd.read_csv('https://stepik.org/media/attachments/lesson/396008/hw_bootstrap.csv', sep = ';')"
   ]
  },
  {
   "cell_type": "code",
   "execution_count": 4,
   "id": "95ce912b",
   "metadata": {
    "scrolled": true
   },
   "outputs": [
    {
     "data": {
      "text/html": [
       "<div>\n",
       "<style scoped>\n",
       "    .dataframe tbody tr th:only-of-type {\n",
       "        vertical-align: middle;\n",
       "    }\n",
       "\n",
       "    .dataframe tbody tr th {\n",
       "        vertical-align: top;\n",
       "    }\n",
       "\n",
       "    .dataframe thead th {\n",
       "        text-align: right;\n",
       "    }\n",
       "</style>\n",
       "<table border=\"1\" class=\"dataframe\">\n",
       "  <thead>\n",
       "    <tr style=\"text-align: right;\">\n",
       "      <th></th>\n",
       "      <th>Unnamed: 0</th>\n",
       "      <th>value</th>\n",
       "      <th>experimentVariant</th>\n",
       "    </tr>\n",
       "  </thead>\n",
       "  <tbody>\n",
       "    <tr>\n",
       "      <th>0</th>\n",
       "      <td>1</td>\n",
       "      <td>10,3804953740268</td>\n",
       "      <td>Control</td>\n",
       "    </tr>\n",
       "    <tr>\n",
       "      <th>1</th>\n",
       "      <td>2</td>\n",
       "      <td>9,54686666784264</td>\n",
       "      <td>Control</td>\n",
       "    </tr>\n",
       "    <tr>\n",
       "      <th>2</th>\n",
       "      <td>3</td>\n",
       "      <td>11,0882146509904</td>\n",
       "      <td>Control</td>\n",
       "    </tr>\n",
       "    <tr>\n",
       "      <th>3</th>\n",
       "      <td>4</td>\n",
       "      <td>10,1472740570122</td>\n",
       "      <td>Control</td>\n",
       "    </tr>\n",
       "    <tr>\n",
       "      <th>4</th>\n",
       "      <td>5</td>\n",
       "      <td>9,78980767524929</td>\n",
       "      <td>Control</td>\n",
       "    </tr>\n",
       "  </tbody>\n",
       "</table>\n",
       "</div>"
      ],
      "text/plain": [
       "   Unnamed: 0             value experimentVariant\n",
       "0           1  10,3804953740268           Control\n",
       "1           2  9,54686666784264           Control\n",
       "2           3  11,0882146509904           Control\n",
       "3           4  10,1472740570122           Control\n",
       "4           5  9,78980767524929           Control"
      ]
     },
     "execution_count": 4,
     "metadata": {},
     "output_type": "execute_result"
    }
   ],
   "source": [
    "#проверим, что всё корректно отображается\n",
    "df.head()"
   ]
  },
  {
   "cell_type": "code",
   "execution_count": 5,
   "id": "69be131a",
   "metadata": {},
   "outputs": [
    {
     "data": {
      "text/plain": [
       "Unnamed: 0           0\n",
       "value                0\n",
       "experimentVariant    0\n",
       "dtype: int64"
      ]
     },
     "execution_count": 5,
     "metadata": {},
     "output_type": "execute_result"
    }
   ],
   "source": [
    "#проверим датасет на наличие пустых ячеек\n",
    "df.isna().sum()"
   ]
  },
  {
   "cell_type": "code",
   "execution_count": 6,
   "id": "672c93e8",
   "metadata": {
    "scrolled": false
   },
   "outputs": [
    {
     "data": {
      "text/html": [
       "<div>\n",
       "<style scoped>\n",
       "    .dataframe tbody tr th:only-of-type {\n",
       "        vertical-align: middle;\n",
       "    }\n",
       "\n",
       "    .dataframe tbody tr th {\n",
       "        vertical-align: top;\n",
       "    }\n",
       "\n",
       "    .dataframe thead th {\n",
       "        text-align: right;\n",
       "    }\n",
       "</style>\n",
       "<table border=\"1\" class=\"dataframe\">\n",
       "  <thead>\n",
       "    <tr style=\"text-align: right;\">\n",
       "      <th></th>\n",
       "      <th>value</th>\n",
       "    </tr>\n",
       "    <tr>\n",
       "      <th>experimentVariant</th>\n",
       "      <th></th>\n",
       "    </tr>\n",
       "  </thead>\n",
       "  <tbody>\n",
       "    <tr>\n",
       "      <th>Control</th>\n",
       "      <td>500</td>\n",
       "    </tr>\n",
       "    <tr>\n",
       "      <th>Treatment</th>\n",
       "      <td>500</td>\n",
       "    </tr>\n",
       "  </tbody>\n",
       "</table>\n",
       "</div>"
      ],
      "text/plain": [
       "                   value\n",
       "experimentVariant       \n",
       "Control              500\n",
       "Treatment            500"
      ]
     },
     "execution_count": 6,
     "metadata": {},
     "output_type": "execute_result"
    }
   ],
   "source": [
    "#посмотрим, сколько наблюдений в тестовой и контрольной группе\n",
    "df.groupby('experimentVariant').agg({'value':'count'})"
   ]
  },
  {
   "cell_type": "code",
   "execution_count": 7,
   "id": "d0bbd4cd",
   "metadata": {},
   "outputs": [
    {
     "data": {
      "text/plain": [
       "Unnamed: 0            int64\n",
       "value                object\n",
       "experimentVariant    object\n",
       "dtype: object"
      ]
     },
     "execution_count": 7,
     "metadata": {},
     "output_type": "execute_result"
    }
   ],
   "source": [
    "#проверим типы данных\n",
    "df.dtypes"
   ]
  },
  {
   "cell_type": "code",
   "execution_count": 8,
   "id": "8d447e7c",
   "metadata": {},
   "outputs": [],
   "source": [
    "#введем функцию для преобразования колонки value из строки с разделителем \",\" в число типа float\n",
    "\n",
    "def to_float(x):\n",
    "    return float(x.replace(',','.'))"
   ]
  },
  {
   "cell_type": "code",
   "execution_count": 9,
   "id": "977ba8fd",
   "metadata": {},
   "outputs": [],
   "source": [
    "#применим функцию преобразования типов\n",
    "\n",
    "df.value = df.value.apply(to_float)"
   ]
  },
  {
   "cell_type": "code",
   "execution_count": 10,
   "id": "a4d830e0",
   "metadata": {},
   "outputs": [
    {
     "name": "stderr",
     "output_type": "stream",
     "text": [
      "C:\\Users\\User\\anaconda3\\lib\\site-packages\\seaborn\\distributions.py:2557: FutureWarning: `distplot` is a deprecated function and will be removed in a future version. Please adapt your code to use either `displot` (a figure-level function with similar flexibility) or `histplot` (an axes-level function for histograms).\n",
      "  warnings.warn(msg, FutureWarning)\n"
     ]
    },
    {
     "data": {
      "text/plain": [
       "<AxesSubplot:xlabel='value'>"
      ]
     },
     "execution_count": 10,
     "metadata": {},
     "output_type": "execute_result"
    },
    {
     "data": {
      "image/png": "[encoded data removed]",
      "text/plain": [
       "<Figure size 432x288 with 1 Axes>"
      ]
     },
     "metadata": {},
     "output_type": "display_data"
    }
   ],
   "source": [
    "#посмотрим на распределение в контрольной группе\n",
    "\n",
    "sns.distplot(df[df.experimentVariant == 'Control'].value, kde=False)"
   ]
  },
  {
   "cell_type": "code",
   "execution_count": 11,
   "id": "060a54aa",
   "metadata": {
    "scrolled": true
   },
   "outputs": [
    {
     "data": {
      "text/plain": [
       "<AxesSubplot:xlabel='value'>"
      ]
     },
     "execution_count": 11,
     "metadata": {},
     "output_type": "execute_result"
    },
    {
     "data": {
      "image/png": "[encoded data removed]",
      "text/plain": [
       "<Figure size 432x288 with 1 Axes>"
      ]
     },
     "metadata": {},
     "output_type": "display_data"
    }
   ],
   "source": [
    "#и тестовой\n",
    "\n",
    "sns.distplot(df[df.experimentVariant == 'Treatment'].value, kde=False)"
   ]
  },
  {
   "cell_type": "markdown",
   "id": "989a0b38",
   "metadata": {},
   "source": [
    "Всё уже выглядит странно, но боксплот тоже построим. 😄"
   ]
  },
  {
   "cell_type": "code",
   "execution_count": 12,
   "id": "9ca6e48a",
   "metadata": {
    "scrolled": false
   },
   "outputs": [
    {
     "data": {
      "text/plain": [
       "<AxesSubplot:xlabel='experimentVariant', ylabel='value'>"
      ]
     },
     "execution_count": 12,
     "metadata": {},
     "output_type": "execute_result"
    },
    {
     "data": {
      "image/png": "[encoded data removed]",
      "text/plain": [
       "<Figure size 432x288 with 1 Axes>"
      ]
     },
     "metadata": {},
     "output_type": "display_data"
    }
   ],
   "source": [
    "sns.boxplot(x=\"experimentVariant\", y=\"value\", data=df)"
   ]
  },
  {
   "cell_type": "code",
   "execution_count": 29,
   "id": "99fd4440",
   "metadata": {
    "scrolled": false
   },
   "outputs": [
    {
     "data": {
      "text/html": [
       "<div>\n",
       "<style scoped>\n",
       "    .dataframe tbody tr th:only-of-type {\n",
       "        vertical-align: middle;\n",
       "    }\n",
       "\n",
       "    .dataframe tbody tr th {\n",
       "        vertical-align: top;\n",
       "    }\n",
       "\n",
       "    .dataframe thead th {\n",
       "        text-align: right;\n",
       "    }\n",
       "</style>\n",
       "<table border=\"1\" class=\"dataframe\">\n",
       "  <thead>\n",
       "    <tr style=\"text-align: right;\">\n",
       "      <th></th>\n",
       "      <th>Unnamed: 0</th>\n",
       "      <th>value</th>\n",
       "      <th>experimentVariant</th>\n",
       "    </tr>\n",
       "  </thead>\n",
       "  <tbody>\n",
       "    <tr>\n",
       "      <th>990</th>\n",
       "      <td>991</td>\n",
       "      <td>10.916229</td>\n",
       "      <td>Treatment</td>\n",
       "    </tr>\n",
       "    <tr>\n",
       "      <th>991</th>\n",
       "      <td>992</td>\n",
       "      <td>11.160869</td>\n",
       "      <td>Treatment</td>\n",
       "    </tr>\n",
       "    <tr>\n",
       "      <th>992</th>\n",
       "      <td>993</td>\n",
       "      <td>8.202518</td>\n",
       "      <td>Treatment</td>\n",
       "    </tr>\n",
       "    <tr>\n",
       "      <th>993</th>\n",
       "      <td>994</td>\n",
       "      <td>9.782199</td>\n",
       "      <td>Treatment</td>\n",
       "    </tr>\n",
       "    <tr>\n",
       "      <th>994</th>\n",
       "      <td>995</td>\n",
       "      <td>10.484967</td>\n",
       "      <td>Treatment</td>\n",
       "    </tr>\n",
       "    <tr>\n",
       "      <th>995</th>\n",
       "      <td>996</td>\n",
       "      <td>1000.000000</td>\n",
       "      <td>Treatment</td>\n",
       "    </tr>\n",
       "    <tr>\n",
       "      <th>996</th>\n",
       "      <td>997</td>\n",
       "      <td>1200.000000</td>\n",
       "      <td>Treatment</td>\n",
       "    </tr>\n",
       "    <tr>\n",
       "      <th>997</th>\n",
       "      <td>998</td>\n",
       "      <td>1500.000000</td>\n",
       "      <td>Treatment</td>\n",
       "    </tr>\n",
       "    <tr>\n",
       "      <th>998</th>\n",
       "      <td>999</td>\n",
       "      <td>2000.000000</td>\n",
       "      <td>Treatment</td>\n",
       "    </tr>\n",
       "    <tr>\n",
       "      <th>999</th>\n",
       "      <td>1000</td>\n",
       "      <td>3000.000000</td>\n",
       "      <td>Treatment</td>\n",
       "    </tr>\n",
       "  </tbody>\n",
       "</table>\n",
       "</div>"
      ],
      "text/plain": [
       "     Unnamed: 0        value experimentVariant\n",
       "990         991    10.916229         Treatment\n",
       "991         992    11.160869         Treatment\n",
       "992         993     8.202518         Treatment\n",
       "993         994     9.782199         Treatment\n",
       "994         995    10.484967         Treatment\n",
       "995         996  1000.000000         Treatment\n",
       "996         997  1200.000000         Treatment\n",
       "997         998  1500.000000         Treatment\n",
       "998         999  2000.000000         Treatment\n",
       "999        1000  3000.000000         Treatment"
      ]
     },
     "execution_count": 29,
     "metadata": {},
     "output_type": "execute_result"
    }
   ],
   "source": [
    "#посмотрим на хвост данных\n",
    "df.tail(10)"
   ]
  },
  {
   "cell_type": "markdown",
   "id": "20ff828c",
   "metadata": {},
   "source": [
    "Последние 5 значений подозрительно ровные. 🤔"
   ]
  },
  {
   "cell_type": "markdown",
   "id": "8a6e42a1",
   "metadata": {},
   "source": [
    "# Формулировка гипотез и проведение тестов"
   ]
  },
  {
   "cell_type": "markdown",
   "id": "1d1db534",
   "metadata": {},
   "source": [
    "Сформулируем проверяемые гипотезы:\n",
    "\n",
    "0️⃣Нулевая гипотеза (H0): Разницы между средним value в группе Treatment и группе Control нет.\n",
    "\n",
    "\n",
    "1️⃣Альтернативная гипотеза (H1): Разница между средним value в группе Treatment и группе Control есть."
   ]
  },
  {
   "cell_type": "markdown",
   "id": "65c4a235",
   "metadata": {},
   "source": [
    "Для проверки нулевой гипотезы воспользуемся критерием Манна-Уитни."
   ]
  },
  {
   "cell_type": "code",
   "execution_count": 14,
   "id": "19ebda45",
   "metadata": {},
   "outputs": [
    {
     "data": {
      "text/plain": [
       "MannwhitneyuResult(statistic=124189.5, pvalue=0.42960742912427896)"
      ]
     },
     "execution_count": 14,
     "metadata": {},
     "output_type": "execute_result"
    }
   ],
   "source": [
    "mannwhitneyu(df[df.experimentVariant == 'Treatment'].value, \n",
    "             df[df.experimentVariant == 'Control'].value)"
   ]
  },
  {
   "cell_type": "markdown",
   "id": "30b7b0dd",
   "metadata": {},
   "source": [
    "🚩 Из величины p_value > 0.05 можно сделать вывод, что => стат значимых различий в группе Treatment и группе Control нет.\n",
    "\n",
    "Используя U тест можно сделать вывод о принятии H0."
   ]
  },
  {
   "cell_type": "markdown",
   "id": "e9d078ba",
   "metadata": {},
   "source": [
    "Далее применим бутстрап используя функцию np.mean."
   ]
  },
  {
   "cell_type": "code",
   "execution_count": 15,
   "id": "28b49e90",
   "metadata": {
    "scrolled": true
   },
   "outputs": [
    {
     "data": {
      "application/vnd.jupyter.widget-view+json": {
       "model_id": "ced159d85256473eb5f8a0f3172c4d0f",
       "version_major": 2,
       "version_minor": 0
      },
      "text/plain": [
       "  0%|          | 0/1000 [00:00<?, ?it/s]"
      ]
     },
     "metadata": {},
     "output_type": "display_data"
    },
    {
     "data": {
      "image/png": "[encoded data removed]",
      "text/plain": [
       "<Figure size 432x288 with 1 Axes>"
      ]
     },
     "metadata": {},
     "output_type": "display_data"
    }
   ],
   "source": [
    "boot_result_mean = get_bootstrap(\n",
    "    df[df.experimentVariant == 'Treatment'].value, # числовые значения первой выборки\n",
    "    df[df.experimentVariant == 'Control'].value, # числовые значения второй выборки\n",
    "    boot_it = 1000, # количество бутстрэп-подвыборок\n",
    "    statistic = np.mean, # интересующая нас статистика\n",
    "    bootstrap_conf_level = 0.95 # уровень значимости\n",
    ")"
   ]
  },
  {
   "cell_type": "code",
   "execution_count": 16,
   "id": "5a8d0697",
   "metadata": {},
   "outputs": [
    {
     "name": "stdout",
     "output_type": "stream",
     "text": [
      "P-value = 0.05071828085275565\n"
     ]
    }
   ],
   "source": [
    "#посмотрим на p_value\n",
    "print('P-value =',boot_result_mean.get('p_value'))"
   ]
  },
  {
   "cell_type": "markdown",
   "id": "5df8f58e",
   "metadata": {},
   "source": [
    "🚩 Опираясь на значение p_value < 0.05 => Отклоняем нулевую гипотезу о том, что различий в группе Treatment и группе Control нет."
   ]
  },
  {
   "cell_type": "markdown",
   "id": "c27501e2",
   "metadata": {},
   "source": [
    "Далее применим бутстрап используя функцию  np.median."
   ]
  },
  {
   "cell_type": "code",
   "execution_count": 18,
   "id": "66426953",
   "metadata": {},
   "outputs": [
    {
     "data": {
      "application/vnd.jupyter.widget-view+json": {
       "model_id": "94070e06c6144c9d9c1a38124c8d6360",
       "version_major": 2,
       "version_minor": 0
      },
      "text/plain": [
       "  0%|          | 0/1000 [00:00<?, ?it/s]"
      ]
     },
     "metadata": {},
     "output_type": "display_data"
    },
    {
     "data": {
      "image/png": "[encoded data removed]",
      "text/plain": [
       "<Figure size 432x288 with 1 Axes>"
      ]
     },
     "metadata": {},
     "output_type": "display_data"
    }
   ],
   "source": [
    "boot_result_median = get_bootstrap(\n",
    "    df[df.experimentVariant == 'Treatment'].value, # числовые значения первой выборки\n",
    "    df[df.experimentVariant == 'Control'].value, # числовые значения второй выборки\n",
    "    boot_it = 1000, # количество бутстрэп-подвыборок\n",
    "    statistic = np.median, # интересующая нас статистика\n",
    "    bootstrap_conf_level = 0.95 # уровень значимости\n",
    ")"
   ]
  },
  {
   "cell_type": "code",
   "execution_count": 19,
   "id": "e9f52e85",
   "metadata": {},
   "outputs": [
    {
     "name": "stdout",
     "output_type": "stream",
     "text": [
      "P-value = 0.8985541098768556\n"
     ]
    }
   ],
   "source": [
    "#посмотрим на p_value в этом случае\n",
    "print('P-value =',boot_result_median.get('p_value'))"
   ]
  },
  {
   "cell_type": "markdown",
   "id": "41807f1e",
   "metadata": {},
   "source": [
    "🚩 Опираясь на значение p_value > 0.05 => Что позволяет принять нулевую гипотезу о том, что различий в группе Treatment и группе Control нет."
   ]
  },
  {
   "cell_type": "markdown",
   "id": "0e96b015",
   "metadata": {},
   "source": [
    "Поскольку критерий Манна-Уитни более строгий и нечувствителен к выбросам, а среднее значение - это функция на которую выбросы влияют сильно, есть основания принять H0."
   ]
  },
  {
   "cell_type": "markdown",
   "id": "95f204f0",
   "metadata": {},
   "source": [
    "# В чем же дело?"
   ]
  },
  {
   "cell_type": "markdown",
   "id": "ce18e181",
   "metadata": {},
   "source": [
    "Далее проверим, как поведут себя метод бутстрап применив к исходным данным один из методов обнаружения выбросов.\n",
    "\n",
    "То есть отфильтровав данные так, чтобы остались только те, которые отличаются не больше чем в полтора раза от первого либо третьего квартилей."
   ]
  },
  {
   "cell_type": "code",
   "execution_count": 21,
   "id": "1a31cf38",
   "metadata": {},
   "outputs": [],
   "source": [
    "quntile_25_t = df[df.experimentVariant == 'Treatment'].value.quantile(0.25) #вычислим первый квартиль\n",
    "quntile_75_t = df[df.experimentVariant == 'Treatment'].value.quantile(0.75) #вычислим второй квартиль\n",
    "\n",
    "interquartile_range_t = quntile_75_t - quntile_25_t #введем пежквартальный размах\n",
    "\n",
    "a = quntile_25_t - 1.5*interquartile_range_t #определим левую границу интервала\n",
    "b = quntile_75_t + 1.5*interquartile_range_t #определим левую границу интервала"
   ]
  },
  {
   "cell_type": "markdown",
   "id": "3d269221",
   "metadata": {},
   "source": [
    "Далее отфильтруем значения, которые лежат в интервале от a до b.\n",
    "\n",
    "И визуализиурем полученные результаты."
   ]
  },
  {
   "cell_type": "code",
   "execution_count": 22,
   "id": "65c2af54",
   "metadata": {
    "scrolled": true
   },
   "outputs": [
    {
     "name": "stderr",
     "output_type": "stream",
     "text": [
      "C:\\Users\\User\\anaconda3\\lib\\site-packages\\seaborn\\distributions.py:2557: FutureWarning: `distplot` is a deprecated function and will be removed in a future version. Please adapt your code to use either `displot` (a figure-level function with similar flexibility) or `histplot` (an axes-level function for histograms).\n",
      "  warnings.warn(msg, FutureWarning)\n"
     ]
    },
    {
     "data": {
      "text/plain": [
       "<AxesSubplot:xlabel='value'>"
      ]
     },
     "execution_count": 22,
     "metadata": {},
     "output_type": "execute_result"
    },
    {
     "data": {
      "image/png": "[encoded data removed]",
      "text/plain": [
       "<Figure size 432x288 with 1 Axes>"
      ]
     },
     "metadata": {},
     "output_type": "display_data"
    }
   ],
   "source": [
    "sns.distplot(df[(df.experimentVariant == 'Treatment') & (df.value < b) & (df.value > a)].value, kde=False)"
   ]
  },
  {
   "cell_type": "markdown",
   "id": "96906ce8",
   "metadata": {},
   "source": [
    "Проведем аналогичную процедуру для группы 'Control'."
   ]
  },
  {
   "cell_type": "code",
   "execution_count": 23,
   "id": "c2a60c70",
   "metadata": {},
   "outputs": [],
   "source": [
    "quntile_25_c = df[df.experimentVariant == 'Control'].value.quantile(0.25) #вычислим первый квартиль\n",
    "quntile_75_c = df[df.experimentVariant == 'Control'].value.quantile(0.75) #вычислим второй квартиль\n",
    "\n",
    "interquartile_range_c = quntile_75_c - quntile_25_c #введем пежквартальный размах\n",
    "\n",
    "c = quntile_25_c - 1.5*interquartile_range_c #определим левую границу интервала\n",
    "d = quntile_75_c + 1.5*interquartile_range_c #определим левую границу интервала"
   ]
  },
  {
   "cell_type": "markdown",
   "id": "c7bd62fc",
   "metadata": {},
   "source": [
    "Далее отфильтруем значения, которые лежат в интервале от c до d.\n",
    "\n",
    "Построим гистограмму для полученного распределения."
   ]
  },
  {
   "cell_type": "code",
   "execution_count": 24,
   "id": "4d63f475",
   "metadata": {
    "scrolled": true
   },
   "outputs": [
    {
     "name": "stderr",
     "output_type": "stream",
     "text": [
      "C:\\Users\\User\\anaconda3\\lib\\site-packages\\seaborn\\distributions.py:2557: FutureWarning: `distplot` is a deprecated function and will be removed in a future version. Please adapt your code to use either `displot` (a figure-level function with similar flexibility) or `histplot` (an axes-level function for histograms).\n",
      "  warnings.warn(msg, FutureWarning)\n"
     ]
    },
    {
     "data": {
      "text/plain": [
       "<AxesSubplot:xlabel='value'>"
      ]
     },
     "execution_count": 24,
     "metadata": {},
     "output_type": "execute_result"
    },
    {
     "data": {
      "image/png": "[encoded data removed]",
      "text/plain": [
       "<Figure size 432x288 with 1 Axes>"
      ]
     },
     "metadata": {},
     "output_type": "display_data"
    }
   ],
   "source": [
    "sns.distplot(df[(df.experimentVariant == 'Control') & (df.value < d) & (df.value > c)].value, kde=False)"
   ]
  },
  {
   "cell_type": "markdown",
   "id": "93dbe757",
   "metadata": {},
   "source": [
    "Так выглядит намного лучше. 😄"
   ]
  },
  {
   "cell_type": "markdown",
   "id": "c8b8787d",
   "metadata": {},
   "source": [
    "И теперь применить бустрап метод к отфильтрованным данным."
   ]
  },
  {
   "cell_type": "code",
   "execution_count": 27,
   "id": "93d25a1b",
   "metadata": {},
   "outputs": [
    {
     "data": {
      "application/vnd.jupyter.widget-view+json": {
       "model_id": "57be68360f704e74a0ea1f131cfa9e2b",
       "version_major": 2,
       "version_minor": 0
      },
      "text/plain": [
       "  0%|          | 0/1000 [00:00<?, ?it/s]"
      ]
     },
     "metadata": {},
     "output_type": "display_data"
    },
    {
     "data": {
      "image/png": "[encoded data removed]",
      "text/plain": [
       "<Figure size 432x288 with 1 Axes>"
      ]
     },
     "metadata": {},
     "output_type": "display_data"
    },
    {
     "name": "stdout",
     "output_type": "stream",
     "text": [
      "P-value = 0.897770713075055\n"
     ]
    }
   ],
   "source": [
    "boot_result_mean_2 = get_bootstrap(\n",
    "    df[(df.experimentVariant == 'Treatment') & (df.value < b) & (df.value > a)].value, # числовые значения первой выборки\n",
    "    df[(df.experimentVariant == 'Control') & (df.value < d) & (df.value > c)].value, # числовые значения второй выборки\n",
    "    boot_it = 1000, # количество бутстрэп-подвыборок\n",
    "    statistic = np.mean, # интересующая нас статистика\n",
    "    bootstrap_conf_level = 0.95 # уровень значимости\n",
    ")\n",
    "       \n",
    "print('P-value =',boot_result_mean_2.get('p_value'))"
   ]
  },
  {
   "cell_type": "code",
   "execution_count": 28,
   "id": "59bef67e",
   "metadata": {},
   "outputs": [
    {
     "data": {
      "application/vnd.jupyter.widget-view+json": {
       "model_id": "df7a4e4b8de7448c94fbdb7dcca4489b",
       "version_major": 2,
       "version_minor": 0
      },
      "text/plain": [
       "  0%|          | 0/1000 [00:00<?, ?it/s]"
      ]
     },
     "metadata": {},
     "output_type": "display_data"
    },
    {
     "data": {
      "image/png": "[encoded data removed]",
      "text/plain": [
       "<Figure size 432x288 with 1 Axes>"
      ]
     },
     "metadata": {},
     "output_type": "display_data"
    },
    {
     "name": "stdout",
     "output_type": "stream",
     "text": [
      "P-value = 0.9041523909172509\n"
     ]
    }
   ],
   "source": [
    "boot_result_median_2 = get_bootstrap(\n",
    "    df[(df.experimentVariant == 'Treatment') & (df.value < b) & (df.value > a)].value, # числовые значения первой выборки\n",
    "    df[(df.experimentVariant == 'Control') & (df.value < d) & (df.value > c)].value, # числовые значения второй выборки\n",
    "    boot_it = 1000, # количество бутстрэп-подвыборок\n",
    "    statistic = np.median, # интересующая нас статистика\n",
    "    bootstrap_conf_level = 0.95 # уровень значимости\n",
    ")\n",
    "       \n",
    "print('P-value =',boot_result_median_2.get('p_value'))"
   ]
  },
  {
   "cell_type": "markdown",
   "id": "8e4c96a4",
   "metadata": {},
   "source": [
    "Для двух случаев (и для функции mean, и для median) p_value >> 0.05 => Из чего заключаем, что нулевую гипотезу отклонять нельзя."
   ]
  },
  {
   "cell_type": "markdown",
   "id": "3783166e",
   "metadata": {},
   "source": [
    "# Выводы:"
   ]
  },
  {
   "cell_type": "markdown",
   "id": "9a925f56",
   "metadata": {},
   "source": [
    "🚩 Опираясь на на величину p_value критерия Манна-Уитни > 0.05 можно сделать вывод, что => стат значимых различий в Treatment и Control группах нет.\n",
    "\n",
    "🚩 Наличие аномальных значений в группе Treatment приводит к ошибке первого рода при использовании бутстрап анализа для функции np.mean.\n",
    "\n",
    "🚩 Наличие аномальных значений в группе Treatment никак не сказывается на результате бутстрап анализа для функции np.median поскольку медианное значение менее чевствительно к наличию выбросов.\n",
    "\n",
    "🚩 Исключение аномальных значений из выборки позволяет более корректро провести анализ и получить согласованные результаты трех тестов."
   ]
  },
  {
   "cell_type": "markdown",
   "id": "59027772",
   "metadata": {},
   "source": [
    "P.S. Ощущение, что из контрольной группы 5 значений просто превратили в неадекватно ровные 3000, 2000 и аналогичные числа, чтобы у студентов была возможность тренироваться на кошках.😺"
   ]
  }
 ],
 "metadata": {
  "celltoolbar": "Raw Cell Format",
  "kernelspec": {
   "display_name": "Python 3",
   "language": "python",
   "name": "python3"
  },
  "language_info": {
   "codemirror_mode": {
    "name": "ipython",
    "version": 3
   },
   "file_extension": ".py",
   "mimetype": "text/x-python",
   "name": "python",
   "nbconvert_exporter": "python",
   "pygments_lexer": "ipython3",
   "version": "3.8.8"
  }
 },
 "nbformat": 4,
 "nbformat_minor": 5
}
